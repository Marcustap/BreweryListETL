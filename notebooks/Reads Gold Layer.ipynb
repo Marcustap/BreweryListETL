{
 "cells": [
  {
   "cell_type": "code",
   "execution_count": 1,
   "id": "d542b58e",
   "metadata": {},
   "outputs": [
    {
     "name": "stdout",
     "output_type": "stream",
     "text": [
      "Requirement already satisfied: pyspark==3.5.0 in /usr/local/spark/python (3.5.0)\n",
      "Collecting py4j==0.10.9.7 (from pyspark==3.5.0)\n",
      "  Downloading py4j-0.10.9.7-py2.py3-none-any.whl.metadata (1.5 kB)\n",
      "Downloading py4j-0.10.9.7-py2.py3-none-any.whl (200 kB)\n",
      "\u001b[2K   \u001b[90m━━━━━━━━━━━━━━━━━━━━━━━━━━━━━━━━━━━━━━━\u001b[0m \u001b[32m200.5/200.5 kB\u001b[0m \u001b[31m276.0 kB/s\u001b[0m eta \u001b[36m0:00:00\u001b[0ma \u001b[36m0:00:01\u001b[0m\n",
      "\u001b[?25hInstalling collected packages: py4j\n",
      "Successfully installed py4j-0.10.9.7\n",
      "Collecting delta-spark==3.2.0\n",
      "  Downloading delta_spark-3.2.0-py3-none-any.whl.metadata (2.0 kB)\n",
      "Requirement already satisfied: pyspark<3.6.0,>=3.5.0 in /usr/local/spark/python (from delta-spark==3.2.0) (3.5.0)\n",
      "Requirement already satisfied: importlib-metadata>=1.0.0 in /opt/conda/lib/python3.11/site-packages (from delta-spark==3.2.0) (6.8.0)\n",
      "Requirement already satisfied: zipp>=0.5 in /opt/conda/lib/python3.11/site-packages (from importlib-metadata>=1.0.0->delta-spark==3.2.0) (3.17.0)\n",
      "Requirement already satisfied: py4j==0.10.9.7 in /opt/conda/lib/python3.11/site-packages (from pyspark<3.6.0,>=3.5.0->delta-spark==3.2.0) (0.10.9.7)\n",
      "Downloading delta_spark-3.2.0-py3-none-any.whl (21 kB)\n",
      "Installing collected packages: delta-spark\n",
      "Successfully installed delta-spark-3.2.0\n"
     ]
    }
   ],
   "source": [
    "!pip install pyspark==3.5.0\n",
    "!pip install delta-spark==3.2.0"
   ]
  },
  {
   "cell_type": "code",
   "execution_count": 2,
   "id": "2747ea49",
   "metadata": {},
   "outputs": [],
   "source": [
    "from pyspark.sql import SparkSession\n",
    "from delta import configure_spark_with_delta_pip\n",
    "\n",
    "builder = SparkSession.builder \\\n",
    "    .appName(\"Jupyter Delta Table\") \\\n",
    "    .config(\"spark.sql.extensions\", \"io.delta.sql.DeltaSparkSessionExtension\") \\\n",
    "    .config(\"spark.sql.catalog.spark_catalog\", \"org.apache.spark.sql.delta.catalog.DeltaCatalog\")\n",
    "\n",
    "spark = configure_spark_with_delta_pip(builder).getOrCreate()"
   ]
  },
  {
   "cell_type": "code",
   "execution_count": 3,
   "id": "cafddbb6",
   "metadata": {},
   "outputs": [],
   "source": [
    "gold_table_path = '/home/jovyan/work/datalake/gold/breweries/num_breweries_per_state'\n",
    "\n",
    "df_gold = spark.read.format(\"delta\").load(gold_table_path)"
   ]
  },
  {
   "cell_type": "code",
   "execution_count": 4,
   "id": "4640eae4",
   "metadata": {},
   "outputs": [
    {
     "name": "stdout",
     "output_type": "stream",
     "text": [
      "+-------------+------------+----------------+\n",
      "|        state|brewery_type|brewery_quantity|\n",
      "+-------------+------------+----------------+\n",
      "|    TENNESSEE|    planning|              20|\n",
      "|    TENNESSEE|     brewpub|              26|\n",
      "|    TENNESSEE|    contract|               1|\n",
      "|    TENNESSEE|  proprietor|               2|\n",
      "|    TENNESSEE|       micro|              59|\n",
      "|    TENNESSEE|    regional|               2|\n",
      "|    TENNESSEE|        nano|               1|\n",
      "|     COLORADO|       micro|             228|\n",
      "|     COLORADO|     brewpub|             141|\n",
      "|     COLORADO|    planning|              39|\n",
      "|     COLORADO|       large|               7|\n",
      "|     COLORADO|  proprietor|               4|\n",
      "|     COLORADO|    contract|               9|\n",
      "|     COLORADO|    regional|              11|\n",
      "|     COLORADO|      closed|               9|\n",
      "|WEST VIRGINIA|     brewpub|              13|\n",
      "|WEST VIRGINIA|    planning|               1|\n",
      "|WEST VIRGINIA|  proprietor|               1|\n",
      "|WEST VIRGINIA|        nano|               1|\n",
      "|WEST VIRGINIA|       micro|              21|\n",
      "|WEST VIRGINIA|      closed|               3|\n",
      "|     NEW YORK|    regional|               9|\n",
      "|     NEW YORK|       large|               4|\n",
      "|     NEW YORK|    contract|              22|\n",
      "|     NEW YORK|    planning|              38|\n",
      "|     NEW YORK|     brewpub|             111|\n",
      "|     NEW YORK|       micro|             224|\n",
      "|     NEW YORK|  proprietor|              10|\n",
      "|     MARYLAND|    contract|               6|\n",
      "|     MARYLAND|    planning|              18|\n",
      "|     MARYLAND|    regional|               4|\n",
      "|     MARYLAND|  proprietor|               2|\n",
      "|     MARYLAND|       large|               1|\n",
      "|     MARYLAND|     brewpub|              26|\n",
      "|     MARYLAND|       micro|              52|\n",
      "|  CONNECTICUT|    planning|              21|\n",
      "|  CONNECTICUT|       micro|              49|\n",
      "|  CONNECTICUT|     brewpub|              11|\n",
      "|  CONNECTICUT|      closed|               6|\n",
      "|  CONNECTICUT|    regional|               2|\n",
      "|  CONNECTICUT|    contract|               5|\n",
      "|     DELAWARE|     brewpub|              14|\n",
      "|     DELAWARE|    regional|               1|\n",
      "|     DELAWARE|       large|               1|\n",
      "|     DELAWARE|    planning|               2|\n",
      "|     DELAWARE|       micro|              10|\n",
      "|         IOWA|     brewpub|              32|\n",
      "|         IOWA|       micro|              56|\n",
      "|         IOWA|    contract|               1|\n",
      "|         IOWA|      closed|               2|\n",
      "+-------------+------------+----------------+\n",
      "only showing top 50 rows\n",
      "\n"
     ]
    }
   ],
   "source": [
    "df_gold.show(50)"
   ]
  },
  {
   "cell_type": "code",
   "execution_count": null,
   "id": "f8cf5d43-9fd0-4808-aaa6-3bdeced94ee1",
   "metadata": {},
   "outputs": [],
   "source": []
  }
 ],
 "metadata": {
  "kernelspec": {
   "display_name": "Python 3 (ipykernel)",
   "language": "python",
   "name": "python3"
  },
  "language_info": {
   "codemirror_mode": {
    "name": "ipython",
    "version": 3
   },
   "file_extension": ".py",
   "mimetype": "text/x-python",
   "name": "python",
   "nbconvert_exporter": "python",
   "pygments_lexer": "ipython3",
   "version": "3.11.6"
  }
 },
 "nbformat": 4,
 "nbformat_minor": 5
}
